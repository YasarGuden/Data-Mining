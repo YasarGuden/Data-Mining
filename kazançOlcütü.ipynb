{
 "cells": [
  {
   "cell_type": "code",
   "execution_count": 68,
   "metadata": {},
   "outputs": [],
   "source": [
    "import pandas as pd\n",
    "import numpy as np\n",
    "\n",
    "\n",
    "data=[[\"Borç\",\"Gelir\",\"Statü\",\"Risk\"],\n",
    "      [\"Yüksek\",\"Yüksek\",\"Yüksek\",\"Düşük\",\"Düşük\",\"Düşük\",\"Düşük\",\"Düşük\",\"Düşük\",\"Düşük\"],\n",
    "      [\"Yüksek\",\"Yüksek\",\"Düşük\",\"Düşük\",\"Düşük\",\"Yüksek\",\"Yüksek\",\"Düşük\",\"Düşük\",\"Yüksek\",],\n",
    "      [\"İşveren\",\"Ücretli\",\"Ücretli\",\"Ücretli\",\"İşveren\",\"İşveren\",\"Ücretli\",\"Ücretli\",\"İşveren\",\"İşveren\"],\n",
    "      [\"Kötü\",\"Kötü\",\"Kötü\",\"İyi\",\"Kötü\",\"İyi\",\"İyi\",\"İyi\",\"Kötü\",\"İyi\"]]\n"
   ]
  },
  {
   "cell_type": "code",
   "execution_count": 69,
   "metadata": {},
   "outputs": [],
   "source": [
    "def entropy_i(num, e_sayısı=len(data)):\n",
    "    \n",
    "    return -1*(num/e_sayısı)*(np.log2(num/e_sayısı))\n",
    "def entropy(data,e_sayısı):\n",
    "    fake=[]\n",
    "    su=0\n",
    "    for i in range(len(data)):\n",
    "        if data[i] in fake:\n",
    "            pass\n",
    "        else:\n",
    "            fake.append(data[i])\n",
    "    for i in range(len(fake)):\n",
    "        \n",
    "        su+=entropy_i(data.count(fake[i]),e_sayısı)\n",
    "    return su\n",
    "\n"
   ]
  },
  {
   "cell_type": "code",
   "execution_count": 70,
   "metadata": {
    "scrolled": true
   },
   "outputs": [
    {
     "name": "stdout",
     "output_type": "stream",
     "text": [
      "H(Borç)= 0.8812908992306927\n",
      "H(Gelir)= 1.0\n",
      "H(Statü)= 1.0\n",
      "H(Risk)= 1.0\n"
     ]
    }
   ],
   "source": [
    "print(\"H({})\".format(data[0][0])+\"=\" ,entropy(data[1],len(data[1])))\n",
    "print(\"H({})\".format(data[0][1])+\"=\" ,entropy(data[2],len(data[1])))\n",
    "print(\"H({})\".format(data[0][2])+\"=\" ,entropy(data[3],len(data[1])))\n",
    "print(\"H({})\".format(data[0][3])+\"=\" ,entropy(data[4],len(data[1])))\n",
    "Hrisk=data[4],len(data[1])"
   ]
  },
  {
   "cell_type": "code",
   "execution_count": 71,
   "metadata": {},
   "outputs": [
    {
     "name": "stdout",
     "output_type": "stream",
     "text": [
      "['Yüksek', 'Düşük']\n",
      "['Kötü', 'İyi']\n"
     ]
    }
   ],
   "source": [
    "\n",
    "def ayıklama(pivot):\n",
    "    sahte= []\n",
    "    for j in range(len(data)):\n",
    "        for i in range(len(pivot)):\n",
    "            if pivot[i] in sahte:\n",
    "                pass\n",
    "            else:\n",
    "                sahte.append(pivot[i])\n",
    "    return sahte\n",
    "print(ayıklama(data[1]))\n",
    "print(ayıklama(data[-1]))"
   ]
  },
  {
   "cell_type": "markdown",
   "metadata": {},
   "source": [
    "Sonucu bulmak için aşağıdaki kod bloğunu yazdım fakat bunun optimize bir fonksiyona çevrilmesi gerekiyor.\n",
    "Fork ile yardımcı olabilirseniz sevinirim."
   ]
  },
  {
   "cell_type": "code",
   "execution_count": 72,
   "metadata": {},
   "outputs": [
    {
     "name": "stdout",
     "output_type": "stream",
     "text": [
      "3 0 2 5\n"
     ]
    }
   ],
   "source": [
    "yk,yi,dk,di=0,0,0,0\n",
    "for i in range(len(data[1])):\n",
    "        if data[1][i] ==\"Yüksek\" and data[-1][i]==\"Kötü\":\n",
    "                   yk+=1\n",
    "        elif data[1][i] ==\"Yüksek\" and data[-1][i]==\"İyi\":\n",
    "                   yi+=1\n",
    "        elif data[1][i] ==\"Düşük\" and data[-1][i]==\"Kötü\":\n",
    "                   dk+=1\n",
    "        elif data[1][i] ==\"Düşük\" and data[-1][i]==\"İyi\":\n",
    "                   di+=1\n",
    "        else:\n",
    "            print(\"Bir yanlışlık var\")\n",
    "    \n",
    "    \n",
    "        \n",
    "print(yd,yi,dk,di)    "
   ]
  },
  {
   "cell_type": "markdown",
   "metadata": {},
   "source": [
    "Aşağıdaki log içinde sıfır olduğundan dolayı hata veriyor.Uygun bir zamanda try bloğuna yerleştiricem."
   ]
  },
  {
   "cell_type": "code",
   "execution_count": 73,
   "metadata": {},
   "outputs": [
    {
     "name": "stdout",
     "output_type": "stream",
     "text": [
      "0.6041843979966417 nan\n",
      "H(Borç,Risk)=\n"
     ]
    },
    {
     "name": "stderr",
     "output_type": "stream",
     "text": [
      "C:\\Users\\yasar\\Anaconda3\\lib\\site-packages\\ipykernel_launcher.py:3: RuntimeWarning: divide by zero encountered in log2\n",
      "  This is separate from the ipykernel package so we can avoid doing imports until\n",
      "C:\\Users\\yasar\\Anaconda3\\lib\\site-packages\\ipykernel_launcher.py:3: RuntimeWarning: invalid value encountered in double_scalars\n",
      "  This is separate from the ipykernel package so we can avoid doing imports until\n"
     ]
    }
   ],
   "source": [
    "a=(dk+di)/len(data[1])*(entropy_i(dk,dk+di)+entropy_i(di,dk+di))\n",
    "b=(yk+yi)/len(data[1])*(entropy_i(yk,yk+yi)+entropy_i(yi,yk+yi))\n",
    "print(a,b)\n",
    "print(\"H({},{})\".format(data[0][0],data[0][-1])+\"=\" )"
   ]
  },
  {
   "cell_type": "code",
   "execution_count": 74,
   "metadata": {},
   "outputs": [
    {
     "ename": "SyntaxError",
     "evalue": "invalid syntax (<ipython-input-74-159941ba5e89>, line 1)",
     "output_type": "error",
     "traceback": [
      "\u001b[1;36m  File \u001b[1;32m\"<ipython-input-74-159941ba5e89>\"\u001b[1;36m, line \u001b[1;32m1\u001b[0m\n\u001b[1;33m    gain=Hrisk-\u001b[0m\n\u001b[1;37m                ^\u001b[0m\n\u001b[1;31mSyntaxError\u001b[0m\u001b[1;31m:\u001b[0m invalid syntax\n"
     ]
    }
   ],
   "source": [
    "gain=Hrisk- (a+b)"
   ]
  }
 ],
 "metadata": {
  "kernelspec": {
   "display_name": "Python 3",
   "language": "python",
   "name": "python3"
  },
  "language_info": {
   "codemirror_mode": {
    "name": "ipython",
    "version": 3
   },
   "file_extension": ".py",
   "mimetype": "text/x-python",
   "name": "python",
   "nbconvert_exporter": "python",
   "pygments_lexer": "ipython3",
   "version": "3.7.1"
  }
 },
 "nbformat": 4,
 "nbformat_minor": 2
}
