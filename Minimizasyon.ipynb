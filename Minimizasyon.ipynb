{
 "cells": [
  {
   "cell_type": "code",
   "execution_count": 31,
   "metadata": {},
   "outputs": [],
   "source": [
    "// minimizasyon yapmak istedğiniz matrisi ve sütünün sıra nosunu parametre olarak yollamanız yeterli\n",
    "data=[[10,8,18,12,3],[5,2,16,15,15],[19,4,6,8,15]]\n",
    "def minimizasyon(data,index=1):\n",
    "    fake=data[index-1].copy()\n",
    "    fake.sort()\n",
    "    data_min=[]\n",
    "    for i in range(len(data[index-1])):\n",
    "        a=(data[index-1][i]-fake[0])/(fake[-1]-fake[0])\n",
    "        data_min.append(a)\n",
    "    return data_min "
   ]
  },
  {
   "cell_type": "code",
   "execution_count": 32,
   "metadata": {},
   "outputs": [
    {
     "name": "stdout",
     "output_type": "stream",
     "text": [
      "[0.4666666666666667, 0.3333333333333333, 1.0, 0.6, 0.0]\n",
      "[0.21428571428571427, 0.0, 1.0, 0.9285714285714286, 0.9285714285714286]\n",
      "[1.0, 0.0, 0.13333333333333333, 0.26666666666666666, 0.7333333333333333]\n"
     ]
    }
   ],
   "source": [
    "print(minimizasyon(data,1))\n",
    "print(minimizasyon(data,2))\n",
    "print(minimizasyon(data,3))"
   ]
  },
  {
   "cell_type": "code",
   "execution_count": null,
   "metadata": {},
   "outputs": [],
   "source": []
  }
 ],
 "metadata": {
  "kernelspec": {
   "display_name": "Python 3",
   "language": "python",
   "name": "python3"
  },
  "language_info": {
   "codemirror_mode": {
    "name": "ipython",
    "version": 3
   },
   "file_extension": ".py",
   "mimetype": "text/x-python",
   "name": "python",
   "nbconvert_exporter": "python",
   "pygments_lexer": "ipython3",
   "version": "3.7.1"
  }
 },
 "nbformat": 4,
 "nbformat_minor": 2
}
